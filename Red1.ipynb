{
  "nbformat": 4,
  "nbformat_minor": 0,
  "metadata": {
    "colab": {
      "provenance": [],
      "authorship_tag": "ABX9TyMJ3ha6KJVYumdPdbsqp3cT",
      "include_colab_link": true
    },
    "kernelspec": {
      "name": "python3",
      "display_name": "Python 3"
    },
    "language_info": {
      "name": "python"
    }
  },
  "cells": [
    {
      "cell_type": "markdown",
      "metadata": {
        "id": "view-in-github",
        "colab_type": "text"
      },
      "source": [
        "<a href=\"https://colab.research.google.com/github/S0ulR/ActividadNro1UAI/blob/master/Red1.ipynb\" target=\"_parent\"><img src=\"https://colab.research.google.com/assets/colab-badge.svg\" alt=\"Open In Colab\"/></a>"
      ]
    },
    {
      "cell_type": "code",
      "execution_count": null,
      "metadata": {
        "colab": {
          "base_uri": "https://localhost:8080/"
        },
        "id": "vpTO8dr8YYrW",
        "outputId": "54b259e4-8bd3-467e-a719-ecb0906894f3"
      },
      "outputs": [
        {
          "output_type": "stream",
          "name": "stdout",
          "text": [
            "Collecting ucimlrepo\n",
            "  Downloading ucimlrepo-0.0.7-py3-none-any.whl.metadata (5.5 kB)\n",
            "Requirement already satisfied: pandas>=1.0.0 in /usr/local/lib/python3.10/dist-packages (from ucimlrepo) (2.2.2)\n",
            "Requirement already satisfied: certifi>=2020.12.5 in /usr/local/lib/python3.10/dist-packages (from ucimlrepo) (2024.8.30)\n",
            "Requirement already satisfied: numpy>=1.22.4 in /usr/local/lib/python3.10/dist-packages (from pandas>=1.0.0->ucimlrepo) (1.26.4)\n",
            "Requirement already satisfied: python-dateutil>=2.8.2 in /usr/local/lib/python3.10/dist-packages (from pandas>=1.0.0->ucimlrepo) (2.8.2)\n",
            "Requirement already satisfied: pytz>=2020.1 in /usr/local/lib/python3.10/dist-packages (from pandas>=1.0.0->ucimlrepo) (2024.2)\n",
            "Requirement already satisfied: tzdata>=2022.7 in /usr/local/lib/python3.10/dist-packages (from pandas>=1.0.0->ucimlrepo) (2024.2)\n",
            "Requirement already satisfied: six>=1.5 in /usr/local/lib/python3.10/dist-packages (from python-dateutil>=2.8.2->pandas>=1.0.0->ucimlrepo) (1.16.0)\n",
            "Downloading ucimlrepo-0.0.7-py3-none-any.whl (8.0 kB)\n",
            "Installing collected packages: ucimlrepo\n",
            "Successfully installed ucimlrepo-0.0.7\n"
          ]
        }
      ],
      "source": [
        "pip install ucimlrepo"
      ]
    },
    {
      "cell_type": "code",
      "source": [],
      "metadata": {
        "id": "mgJZOXh9Y0ON"
      },
      "execution_count": null,
      "outputs": []
    },
    {
      "cell_type": "code",
      "execution_count": null,
      "metadata": {
        "id": "3896f775"
      },
      "outputs": [],
      "source": [
        "from tensorflow.keras.optimizers import SGD\n",
        "from tensorflow.keras.callbacks import EarlyStopping\n",
        "from tensorflow.keras.models import Sequential\n",
        "from tensorflow.keras.layers import Dense, Input\n",
        "from tensorflow.keras.utils import to_categorical\n",
        "\n",
        "import matplotlib.pyplot as plt\n",
        "import numpy as np\n",
        "from sklearn import preprocessing, metrics, model_selection\n",
        "import pandas as pd\n",
        "\n",
        "from ucimlrepo import fetch_ucirepo"
      ]
    },
    {
      "cell_type": "code",
      "source": [],
      "metadata": {
        "id": "byes6JR5ZItl"
      },
      "execution_count": null,
      "outputs": []
    },
    {
      "cell_type": "code",
      "source": [
        "# fetch dataset\n",
        "#iris = fetch_ucirepo(id=53)\n",
        "iris = fetch_ucirepo(name='Iris')\n",
        "\n",
        "# data (as pandas dataframes)\n",
        "df_X = iris.data.features\n",
        "df_y = iris.data.targets\n",
        "\n",
        "print(df_X.head())\n",
        "\n",
        "print(df_y.head())"
      ],
      "metadata": {
        "colab": {
          "base_uri": "https://localhost:8080/"
        },
        "id": "QEMr4JtzaeDA",
        "outputId": "9cd90a87-6076-4e27-f21b-a45fac73032c"
      },
      "execution_count": null,
      "outputs": [
        {
          "output_type": "stream",
          "name": "stdout",
          "text": [
            "   sepal length  sepal width  petal length  petal width\n",
            "0           5.1          3.5           1.4          0.2\n",
            "1           4.9          3.0           1.4          0.2\n",
            "2           4.7          3.2           1.3          0.2\n",
            "3           4.6          3.1           1.5          0.2\n",
            "4           5.0          3.6           1.4          0.2\n",
            "         class\n",
            "0  Iris-setosa\n",
            "1  Iris-setosa\n",
            "2  Iris-setosa\n",
            "3  Iris-setosa\n",
            "4  Iris-setosa\n"
          ]
        }
      ]
    },
    {
      "cell_type": "code",
      "source": [
        "X = np.array(df_X)\n",
        "Y = np.array(df_y['class'])\n",
        "encoder = preprocessing.LabelEncoder()\n",
        "Y = encoder.fit_transform(Y)\n",
        "Y_bin= to_categorical(Y)\n",
        "\n",
        "print(Y)\n",
        "\n",
        "etiquetas = encoder.inverse_transform([0,1,2])\n",
        "print(\"\\n\\n Etiquetas = \",etiquetas)"
      ],
      "metadata": {
        "colab": {
          "base_uri": "https://localhost:8080/"
        },
        "id": "g8ehSCYsbC-O",
        "outputId": "ae54f5a2-db46-4d59-ce9c-cf1dd2dab40b"
      },
      "execution_count": null,
      "outputs": [
        {
          "output_type": "stream",
          "name": "stdout",
          "text": [
            "[0 0 0 0 0 0 0 0 0 0 0 0 0 0 0 0 0 0 0 0 0 0 0 0 0 0 0 0 0 0 0 0 0 0 0 0 0\n",
            " 0 0 0 0 0 0 0 0 0 0 0 0 0 1 1 1 1 1 1 1 1 1 1 1 1 1 1 1 1 1 1 1 1 1 1 1 1\n",
            " 1 1 1 1 1 1 1 1 1 1 1 1 1 1 1 1 1 1 1 1 1 1 1 1 1 1 2 2 2 2 2 2 2 2 2 2 2\n",
            " 2 2 2 2 2 2 2 2 2 2 2 2 2 2 2 2 2 2 2 2 2 2 2 2 2 2 2 2 2 2 2 2 2 2 2 2 2\n",
            " 2 2]\n",
            "\n",
            "\n",
            " Etiquetas =  ['Iris-setosa' 'Iris-versicolor' 'Iris-virginica']\n"
          ]
        }
      ]
    },
    {
      "cell_type": "code",
      "source": [
        "Y_bin[[2,3,60,70,120],:]"
      ],
      "metadata": {
        "colab": {
          "base_uri": "https://localhost:8080/"
        },
        "id": "zafYoi13bHog",
        "outputId": "55631a06-c4e8-4257-bd2e-1796ecc0330d"
      },
      "execution_count": null,
      "outputs": [
        {
          "output_type": "execute_result",
          "data": {
            "text/plain": [
              "array([[1., 0., 0.],\n",
              "       [1., 0., 0.],\n",
              "       [0., 1., 0.],\n",
              "       [0., 1., 0.],\n",
              "       [0., 0., 1.]])"
            ]
          },
          "metadata": {},
          "execution_count": 5
        }
      ]
    },
    {
      "cell_type": "code",
      "source": [
        "#--- CONJUNTOS DE ENTRENAMIENTO Y TESTEO ---\n",
        "X_train, X_test, Y_train, Y_test = model_selection.train_test_split( \\\n",
        "        X, Y_bin, test_size=0.20) #, random_state=42)"
      ],
      "metadata": {
        "id": "sgBiFuASbMlY"
      },
      "execution_count": null,
      "outputs": []
    },
    {
      "cell_type": "code",
      "source": [
        "normalizarEntrada = 1  # 1 si normaliza; 0 si no\n",
        "\n",
        "if normalizarEntrada:\n",
        "    # Escala los valores entre 0 y 1\n",
        "    min_max_scaler = preprocessing.StandardScaler()\n",
        "    X_train = min_max_scaler.fit_transform(X_train)\n",
        "    X_test = min_max_scaler.transform(X_test)"
      ],
      "metadata": {
        "id": "yDZPoiBKbPlV"
      },
      "execution_count": null,
      "outputs": []
    },
    {
      "cell_type": "code",
      "source": [
        "# Crear un modelo de capas secuenciales\n",
        "model=Sequential()\n",
        "\n",
        "# Agregar las capas al modelo\n",
        "model.add(Input(shape=(13,)))\n",
        "model.add(Dense(8, activation='tanh'))      # model.add(Dense(2, input_shape=[4], activation='tanh’))\n",
        "model.add(Dense(3, activation='softmax'))\n",
        "\n",
        "# Imprimir un resumen del modelo\n",
        "model.summary()"
      ],
      "metadata": {
        "colab": {
          "base_uri": "https://localhost:8080/",
          "height": 204
        },
        "id": "GPSRxHWUbSCe",
        "outputId": "b4a9db54-d2a0-44ae-9a05-4c96511a98ea"
      },
      "execution_count": null,
      "outputs": [
        {
          "output_type": "display_data",
          "data": {
            "text/plain": [
              "\u001b[1mModel: \"sequential_1\"\u001b[0m\n"
            ],
            "text/html": [
              "<pre style=\"white-space:pre;overflow-x:auto;line-height:normal;font-family:Menlo,'DejaVu Sans Mono',consolas,'Courier New',monospace\"><span style=\"font-weight: bold\">Model: \"sequential_1\"</span>\n",
              "</pre>\n"
            ]
          },
          "metadata": {}
        },
        {
          "output_type": "display_data",
          "data": {
            "text/plain": [
              "┏━━━━━━━━━━━━━━━━━━━━━━━━━━━━━━━━━━━━━━┳━━━━━━━━━━━━━━━━━━━━━━━━━━━━━┳━━━━━━━━━━━━━━━━━┓\n",
              "┃\u001b[1m \u001b[0m\u001b[1mLayer (type)                        \u001b[0m\u001b[1m \u001b[0m┃\u001b[1m \u001b[0m\u001b[1mOutput Shape               \u001b[0m\u001b[1m \u001b[0m┃\u001b[1m \u001b[0m\u001b[1m        Param #\u001b[0m\u001b[1m \u001b[0m┃\n",
              "┡━━━━━━━━━━━━━━━━━━━━━━━━━━━━━━━━━━━━━━╇━━━━━━━━━━━━━━━━━━━━━━━━━━━━━╇━━━━━━━━━━━━━━━━━┩\n",
              "│ dense_2 (\u001b[38;5;33mDense\u001b[0m)                      │ (\u001b[38;5;45mNone\u001b[0m, \u001b[38;5;34m8\u001b[0m)                   │             \u001b[38;5;34m112\u001b[0m │\n",
              "├──────────────────────────────────────┼─────────────────────────────┼─────────────────┤\n",
              "│ dense_3 (\u001b[38;5;33mDense\u001b[0m)                      │ (\u001b[38;5;45mNone\u001b[0m, \u001b[38;5;34m3\u001b[0m)                   │              \u001b[38;5;34m27\u001b[0m │\n",
              "└──────────────────────────────────────┴─────────────────────────────┴─────────────────┘\n"
            ],
            "text/html": [
              "<pre style=\"white-space:pre;overflow-x:auto;line-height:normal;font-family:Menlo,'DejaVu Sans Mono',consolas,'Courier New',monospace\">┏━━━━━━━━━━━━━━━━━━━━━━━━━━━━━━━━━━━━━━┳━━━━━━━━━━━━━━━━━━━━━━━━━━━━━┳━━━━━━━━━━━━━━━━━┓\n",
              "┃<span style=\"font-weight: bold\"> Layer (type)                         </span>┃<span style=\"font-weight: bold\"> Output Shape                </span>┃<span style=\"font-weight: bold\">         Param # </span>┃\n",
              "┡━━━━━━━━━━━━━━━━━━━━━━━━━━━━━━━━━━━━━━╇━━━━━━━━━━━━━━━━━━━━━━━━━━━━━╇━━━━━━━━━━━━━━━━━┩\n",
              "│ dense_2 (<span style=\"color: #0087ff; text-decoration-color: #0087ff\">Dense</span>)                      │ (<span style=\"color: #00d7ff; text-decoration-color: #00d7ff\">None</span>, <span style=\"color: #00af00; text-decoration-color: #00af00\">8</span>)                   │             <span style=\"color: #00af00; text-decoration-color: #00af00\">112</span> │\n",
              "├──────────────────────────────────────┼─────────────────────────────┼─────────────────┤\n",
              "│ dense_3 (<span style=\"color: #0087ff; text-decoration-color: #0087ff\">Dense</span>)                      │ (<span style=\"color: #00d7ff; text-decoration-color: #00d7ff\">None</span>, <span style=\"color: #00af00; text-decoration-color: #00af00\">3</span>)                   │              <span style=\"color: #00af00; text-decoration-color: #00af00\">27</span> │\n",
              "└──────────────────────────────────────┴─────────────────────────────┴─────────────────┘\n",
              "</pre>\n"
            ]
          },
          "metadata": {}
        },
        {
          "output_type": "display_data",
          "data": {
            "text/plain": [
              "\u001b[1m Total params: \u001b[0m\u001b[38;5;34m139\u001b[0m (556.00 B)\n"
            ],
            "text/html": [
              "<pre style=\"white-space:pre;overflow-x:auto;line-height:normal;font-family:Menlo,'DejaVu Sans Mono',consolas,'Courier New',monospace\"><span style=\"font-weight: bold\"> Total params: </span><span style=\"color: #00af00; text-decoration-color: #00af00\">139</span> (556.00 B)\n",
              "</pre>\n"
            ]
          },
          "metadata": {}
        },
        {
          "output_type": "display_data",
          "data": {
            "text/plain": [
              "\u001b[1m Trainable params: \u001b[0m\u001b[38;5;34m139\u001b[0m (556.00 B)\n"
            ],
            "text/html": [
              "<pre style=\"white-space:pre;overflow-x:auto;line-height:normal;font-family:Menlo,'DejaVu Sans Mono',consolas,'Courier New',monospace\"><span style=\"font-weight: bold\"> Trainable params: </span><span style=\"color: #00af00; text-decoration-color: #00af00\">139</span> (556.00 B)\n",
              "</pre>\n"
            ]
          },
          "metadata": {}
        },
        {
          "output_type": "display_data",
          "data": {
            "text/plain": [
              "\u001b[1m Non-trainable params: \u001b[0m\u001b[38;5;34m0\u001b[0m (0.00 B)\n"
            ],
            "text/html": [
              "<pre style=\"white-space:pre;overflow-x:auto;line-height:normal;font-family:Menlo,'DejaVu Sans Mono',consolas,'Courier New',monospace\"><span style=\"font-weight: bold\"> Non-trainable params: </span><span style=\"color: #00af00; text-decoration-color: #00af00\">0</span> (0.00 B)\n",
              "</pre>\n"
            ]
          },
          "metadata": {}
        }
      ]
    },
    {
      "cell_type": "code",
      "source": [
        "# Configuración para entrenamiento\n",
        "#model.compile(optimizer='sgd', loss='mse', metrics=['accuracy'])\n",
        "#model.compile(optimizer='sgd', loss='categorical_crossentropy', metrics=['accuracy'])\n",
        "\n",
        "model.compile(optimizer=SGD(learning_rate=0.05), loss='categorical_crossentropy', metrics=['accuracy'])"
      ],
      "metadata": {
        "id": "snBHEui4bWko"
      },
      "execution_count": null,
      "outputs": []
    },
    {
      "cell_type": "code",
      "source": [
        "# model.fit(X_train,Y_trainB, epochs=100)\n",
        "\n",
        "es = EarlyStopping(monitor='val_accuracy', patience=30, min_delta=1e-08, restore_best_weights=True)\n",
        "\n",
        "H = model.fit(x = X_train, y = Y_train, epochs=100, batch_size = 20,\n",
        "              validation_data = (X_test, Y_test),  callbacks=[es])\n"
      ],
      "metadata": {
        "colab": {
          "base_uri": "https://localhost:8080/",
          "height": 478
        },
        "collapsed": true,
        "id": "EH0XddXbbaDo",
        "outputId": "e3c09cfb-e80e-48ab-c0b2-a57f0d56cb1d"
      },
      "execution_count": null,
      "outputs": [
        {
          "output_type": "stream",
          "name": "stdout",
          "text": [
            "Epoch 1/100\n"
          ]
        },
        {
          "output_type": "error",
          "ename": "ValueError",
          "evalue": "Exception encountered when calling Sequential.call().\n\n\u001b[1mInput 0 of layer \"dense_2\" is incompatible with the layer: expected axis -1 of input shape to have value 13, but received input with shape (20, 4)\u001b[0m\n\nArguments received by Sequential.call():\n  • inputs=tf.Tensor(shape=(20, 4), dtype=float32)\n  • training=True\n  • mask=None",
          "traceback": [
            "\u001b[0;31m---------------------------------------------------------------------------\u001b[0m",
            "\u001b[0;31mValueError\u001b[0m                                Traceback (most recent call last)",
            "\u001b[0;32m<ipython-input-27-676bc32a84e6>\u001b[0m in \u001b[0;36m<cell line: 5>\u001b[0;34m()\u001b[0m\n\u001b[1;32m      3\u001b[0m \u001b[0mes\u001b[0m \u001b[0;34m=\u001b[0m \u001b[0mEarlyStopping\u001b[0m\u001b[0;34m(\u001b[0m\u001b[0mmonitor\u001b[0m\u001b[0;34m=\u001b[0m\u001b[0;34m'val_accuracy'\u001b[0m\u001b[0;34m,\u001b[0m \u001b[0mpatience\u001b[0m\u001b[0;34m=\u001b[0m\u001b[0;36m30\u001b[0m\u001b[0;34m,\u001b[0m \u001b[0mmin_delta\u001b[0m\u001b[0;34m=\u001b[0m\u001b[0;36m1e-08\u001b[0m\u001b[0;34m,\u001b[0m \u001b[0mrestore_best_weights\u001b[0m\u001b[0;34m=\u001b[0m\u001b[0;32mTrue\u001b[0m\u001b[0;34m)\u001b[0m\u001b[0;34m\u001b[0m\u001b[0;34m\u001b[0m\u001b[0m\n\u001b[1;32m      4\u001b[0m \u001b[0;34m\u001b[0m\u001b[0m\n\u001b[0;32m----> 5\u001b[0;31m H = model.fit(x = X_train, y = Y_train, epochs=100, batch_size = 20,\n\u001b[0m\u001b[1;32m      6\u001b[0m               validation_data = (X_test, Y_test),  callbacks=[es])\n",
            "\u001b[0;32m/usr/local/lib/python3.10/dist-packages/keras/src/utils/traceback_utils.py\u001b[0m in \u001b[0;36merror_handler\u001b[0;34m(*args, **kwargs)\u001b[0m\n\u001b[1;32m    120\u001b[0m             \u001b[0;31m# To get the full stack trace, call:\u001b[0m\u001b[0;34m\u001b[0m\u001b[0;34m\u001b[0m\u001b[0m\n\u001b[1;32m    121\u001b[0m             \u001b[0;31m# `keras.config.disable_traceback_filtering()`\u001b[0m\u001b[0;34m\u001b[0m\u001b[0;34m\u001b[0m\u001b[0m\n\u001b[0;32m--> 122\u001b[0;31m             \u001b[0;32mraise\u001b[0m \u001b[0me\u001b[0m\u001b[0;34m.\u001b[0m\u001b[0mwith_traceback\u001b[0m\u001b[0;34m(\u001b[0m\u001b[0mfiltered_tb\u001b[0m\u001b[0;34m)\u001b[0m \u001b[0;32mfrom\u001b[0m \u001b[0;32mNone\u001b[0m\u001b[0;34m\u001b[0m\u001b[0;34m\u001b[0m\u001b[0m\n\u001b[0m\u001b[1;32m    123\u001b[0m         \u001b[0;32mfinally\u001b[0m\u001b[0;34m:\u001b[0m\u001b[0;34m\u001b[0m\u001b[0;34m\u001b[0m\u001b[0m\n\u001b[1;32m    124\u001b[0m             \u001b[0;32mdel\u001b[0m \u001b[0mfiltered_tb\u001b[0m\u001b[0;34m\u001b[0m\u001b[0;34m\u001b[0m\u001b[0m\n",
            "\u001b[0;32m/usr/local/lib/python3.10/dist-packages/keras/src/layers/input_spec.py\u001b[0m in \u001b[0;36massert_input_compatibility\u001b[0;34m(input_spec, inputs, layer_name)\u001b[0m\n\u001b[1;32m    225\u001b[0m                     \u001b[0;32mNone\u001b[0m\u001b[0;34m,\u001b[0m\u001b[0;34m\u001b[0m\u001b[0;34m\u001b[0m\u001b[0m\n\u001b[1;32m    226\u001b[0m                 }:\n\u001b[0;32m--> 227\u001b[0;31m                     raise ValueError(\n\u001b[0m\u001b[1;32m    228\u001b[0m                         \u001b[0;34mf'Input {input_index} of layer \"{layer_name}\" is '\u001b[0m\u001b[0;34m\u001b[0m\u001b[0;34m\u001b[0m\u001b[0m\n\u001b[1;32m    229\u001b[0m                         \u001b[0;34mf\"incompatible with the layer: expected axis {axis} \"\u001b[0m\u001b[0;34m\u001b[0m\u001b[0;34m\u001b[0m\u001b[0m\n",
            "\u001b[0;31mValueError\u001b[0m: Exception encountered when calling Sequential.call().\n\n\u001b[1mInput 0 of layer \"dense_2\" is incompatible with the layer: expected axis -1 of input shape to have value 13, but received input with shape (20, 4)\u001b[0m\n\nArguments received by Sequential.call():\n  • inputs=tf.Tensor(shape=(20, 4), dtype=float32)\n  • training=True\n  • mask=None"
          ]
        }
      ]
    },
    {
      "cell_type": "code",
      "source": [
        "print(\"épocas = %d\" % len(H.history[\"val_accuracy\"]))\n",
        "print(\"Epocas = %d\" % es.stopped_epoch)"
      ],
      "metadata": {
        "colab": {
          "base_uri": "https://localhost:8080/"
        },
        "id": "CnpJyD8HbcWR",
        "outputId": "8610fa45-adc7-4480-a272-65f867b23e43"
      },
      "execution_count": null,
      "outputs": [
        {
          "output_type": "stream",
          "name": "stdout",
          "text": [
            "épocas = 108\n",
            "Epocas = 107\n"
          ]
        }
      ]
    },
    {
      "cell_type": "code",
      "source": [
        "# dibuja accuracy del progreso del entrenamiento\n",
        "accuracy = np.array(H.history[\"accuracy\"])\n",
        "val_accuracy = np.array(H.history[\"val_accuracy\"])\n",
        "\n",
        "N = np.arange(0, len(accuracy))\n",
        "plt.figure()\n",
        "#plt.plot(N, H.history[\"loss\"], label=\"train_loss\")\n",
        "#plt.plot(N, H.history[\"val_loss\"], label=\"val_loss\")\n",
        "plt.plot(N, 100*accuracy, label=\"train_acc\")\n",
        "plt.plot(N, 100*val_accuracy, label=\"val_acc\")\n",
        "plt.title(\"Efectividad de Entrenamiento\")\n",
        "plt.xlabel(\"Época #\")\n",
        "plt.ylabel(\"Efectividad\")\n",
        "plt.legend(loc=\"lower right\")"
      ],
      "metadata": {
        "colab": {
          "base_uri": "https://localhost:8080/",
          "height": 491
        },
        "id": "gnWCPjeLbfUF",
        "outputId": "ba67399e-f9af-4e9d-8eb3-a7fcc50c2693"
      },
      "execution_count": null,
      "outputs": [
        {
          "output_type": "execute_result",
          "data": {
            "text/plain": [
              "<matplotlib.legend.Legend at 0x78fdea158250>"
            ]
          },
          "metadata": {},
          "execution_count": 12
        },
        {
          "output_type": "display_data",
          "data": {
            "text/plain": [
              "<Figure size 640x480 with 1 Axes>"
            ],
            "image/png": "[encoded data removed]"
          },
          "metadata": {}
        }
      ]
    },
    {
      "cell_type": "code",
      "source": [
        "# dibuja accuracy del progreso del entrenamiento\n",
        "accuracy = np.array(H.history[\"loss\"])\n",
        "val_accuracy = np.array(H.history[\"val_loss\"])\n",
        "\n",
        "N = np.arange(0, len(accuracy))\n",
        "plt.figure()\n",
        "#plt.plot(N, H.history[\"loss\"], label=\"train_loss\")\n",
        "#plt.plot(N, H.history[\"val_loss\"], label=\"val_loss\")\n",
        "plt.plot(N, 100*accuracy, label=\"train_loss\")\n",
        "plt.plot(N, 100*val_accuracy, label=\"val_loss\")\n",
        "plt.title(\"Error\")\n",
        "plt.xlabel(\"Época #\")\n",
        "plt.ylabel(\"loss\")\n",
        "plt.legend(loc=\"lower left\")"
      ],
      "metadata": {
        "colab": {
          "base_uri": "https://localhost:8080/",
          "height": 491
        },
        "id": "A-DpPsMjbl9U",
        "outputId": "7bf9b649-d3ca-4253-e646-bbe502c4431e"
      },
      "execution_count": null,
      "outputs": [
        {
          "output_type": "execute_result",
          "data": {
            "text/plain": [
              "<matplotlib.legend.Legend at 0x78fdebadd300>"
            ]
          },
          "metadata": {},
          "execution_count": 13
        },
        {
          "output_type": "display_data",
          "data": {
            "text/plain": [
              "<Figure size 640x480 with 1 Axes>"
            ],
            "image/png": "[encoded data removed]"
          },
          "metadata": {}
        }
      ]
    },
    {
      "cell_type": "code",
      "source": [
        "# predecir la salida del modelo\n",
        "Y_pred = model.predict(X_train)\n",
        "\n",
        "# Convertir la salida del modelo en un número entero\n",
        "Y_pred2 = np.argmax(Y_pred,axis=1)\n",
        "Y_true =  np.argmax(Y_train,axis=1)\n",
        "print(\"%% aciertos : %.3f\" % metrics.accuracy_score(Y_true, Y_pred2))\n",
        "print(Y_pred[:5,:])\n",
        "print(Y_pred2[:5])"
      ],
      "metadata": {
        "colab": {
          "base_uri": "https://localhost:8080/"
        },
        "id": "mDbMbovybmkd",
        "outputId": "653eafda-a0bc-4ae2-844f-e48eaa105456"
      },
      "execution_count": null,
      "outputs": [
        {
          "output_type": "stream",
          "name": "stdout",
          "text": [
            "\u001b[1m4/4\u001b[0m \u001b[32m━━━━━━━━━━━━━━━━━━━━\u001b[0m\u001b[37m\u001b[0m \u001b[1m0s\u001b[0m 13ms/step\n",
            "% aciertos : 0.967\n",
            "[[0.945626   0.0497805  0.00459346]\n",
            " [0.00245367 0.08511565 0.91243076]\n",
            " [0.07464081 0.9017663  0.02359274]\n",
            " [0.05616518 0.87544155 0.06839324]\n",
            " [0.06195652 0.89972943 0.03831412]]\n",
            "[0 2 1 1 1]\n"
          ]
        }
      ]
    },
    {
      "cell_type": "code",
      "source": [
        "# Evaluación del modelo\n",
        "score = model.evaluate(X_train, Y_train)\n",
        "\n",
        "print('Error :', score[0])\n",
        "print('Accuracy:', score[1])\n"
      ],
      "metadata": {
        "colab": {
          "base_uri": "https://localhost:8080/"
        },
        "id": "ZG229pF_bpNs",
        "outputId": "8a7410f7-d7e7-479f-9a05-8452f227fe43"
      },
      "execution_count": null,
      "outputs": [
        {
          "output_type": "stream",
          "name": "stdout",
          "text": [
            "\u001b[1m4/4\u001b[0m \u001b[32m━━━━━━━━━━━━━━━━━━━━\u001b[0m\u001b[37m\u001b[0m \u001b[1m0s\u001b[0m 3ms/step - accuracy: 0.9596 - loss: 0.1610 \n",
            "Error : 0.1599402278661728\n",
            "Accuracy: 0.9666666388511658\n"
          ]
        }
      ]
    },
    {
      "cell_type": "code",
      "source": [
        "report = metrics.classification_report(Y_true, Y_pred2, target_names=etiquetas)\n",
        "print(\"Training metrics:\\n%s\" % report)\n",
        "\n",
        "MM = metrics.confusion_matrix(Y_true, Y_pred2)\n",
        "print(\"Confusion matrix:\\n%s\" % MM)"
      ],
      "metadata": {
        "colab": {
          "base_uri": "https://localhost:8080/"
        },
        "id": "g8Qft3bmbrrG",
        "outputId": "cf743464-64b6-48c9-9efb-dbc9c16689b2"
      },
      "execution_count": null,
      "outputs": [
        {
          "output_type": "stream",
          "name": "stdout",
          "text": [
            "Training metrics:\n",
            "                 precision    recall  f1-score   support\n",
            "\n",
            "    Iris-setosa       1.00      1.00      1.00        39\n",
            "Iris-versicolor       0.97      0.92      0.94        37\n",
            " Iris-virginica       0.93      0.98      0.96        44\n",
            "\n",
            "       accuracy                           0.97       120\n",
            "      macro avg       0.97      0.97      0.97       120\n",
            "   weighted avg       0.97      0.97      0.97       120\n",
            "\n",
            "Confusion matrix:\n",
            "[[39  0  0]\n",
            " [ 0 34  3]\n",
            " [ 0  1 43]]\n"
          ]
        }
      ]
    },
    {
      "cell_type": "code",
      "source": [
        "# predecir la salida del modelo\n",
        "Y_pred = model.predict(X_test)\n",
        "Y_pred2 = np.argmax(Y_pred,axis=1)\n",
        "Y_true =  np.argmax(Y_test,axis=1)\n",
        "print(\"%% aciertos X_train : %.3f\" % metrics.accuracy_score(Y_true, Y_pred2))"
      ],
      "metadata": {
        "colab": {
          "base_uri": "https://localhost:8080/"
        },
        "id": "2gCjspoabuO8",
        "outputId": "9979b5fa-6ca3-4377-fd62-cbe92f991642"
      },
      "execution_count": null,
      "outputs": [
        {
          "output_type": "stream",
          "name": "stdout",
          "text": [
            "\u001b[1m1/1\u001b[0m \u001b[32m━━━━━━━━━━━━━━━━━━━━\u001b[0m\u001b[37m\u001b[0m \u001b[1m0s\u001b[0m 21ms/step\n",
            "% aciertos X_train : 0.933\n"
          ]
        }
      ]
    },
    {
      "cell_type": "code",
      "source": [
        "report = metrics.classification_report(Y_true, Y_pred2, target_names=etiquetas)\n",
        "\n",
        "print(\"Métricas de la clasificación:\\n%s\" % report)"
      ],
      "metadata": {
        "colab": {
          "base_uri": "https://localhost:8080/"
        },
        "id": "xbJYcXvWbxtL",
        "outputId": "52943670-ea60-445b-f0db-e41d241b4498"
      },
      "execution_count": null,
      "outputs": [
        {
          "output_type": "stream",
          "name": "stdout",
          "text": [
            "Métricas de la clasificación:\n",
            "                 precision    recall  f1-score   support\n",
            "\n",
            "    Iris-setosa       1.00      1.00      1.00        11\n",
            "Iris-versicolor       1.00      0.85      0.92        13\n",
            " Iris-virginica       0.75      1.00      0.86         6\n",
            "\n",
            "       accuracy                           0.93        30\n",
            "      macro avg       0.92      0.95      0.92        30\n",
            "   weighted avg       0.95      0.93      0.94        30\n",
            "\n"
          ]
        }
      ]
    },
    {
      "cell_type": "code",
      "source": [
        "MM = metrics.confusion_matrix(Y_true, Y_pred2)\n",
        "\n",
        "print(\"Confusion matrix:\\n%s\" % MM)\n",
        "# Convertimos la matriz de confusión en un DataFrame con etiquetas\n",
        "df_cm = pd.DataFrame(MM, index=etiquetas, columns=etiquetas)\n",
        "\n",
        "# Mostramos el DataFrame resultante\n",
        "print(\"\\n\\n\",df_cm)"
      ],
      "metadata": {
        "colab": {
          "base_uri": "https://localhost:8080/"
        },
        "id": "RmIdv4EQbzfn",
        "outputId": "f5bae8e2-2e90-4aaf-ed92-a92669827359"
      },
      "execution_count": null,
      "outputs": [
        {
          "output_type": "stream",
          "name": "stdout",
          "text": [
            "Confusion matrix:\n",
            "[[11  0  0]\n",
            " [ 0 11  2]\n",
            " [ 0  0  6]]\n",
            "\n",
            "\n",
            "                  Iris-setosa  Iris-versicolor  Iris-virginica\n",
            "Iris-setosa               11                0               0\n",
            "Iris-versicolor            0               11               2\n",
            "Iris-virginica             0                0               6\n"
          ]
        }
      ]
    },
    {
      "cell_type": "code",
      "source": [
        "capaOculta = model.layers[0]\n",
        "W1, b1 = capaOculta.get_weights()\n",
        "\n",
        "capaSalida = model.layers[1]\n",
        "W2,b2 = capaSalida.get_weights()\n",
        "\n",
        "print(\"W1\")\n",
        "print(W1)\n",
        "\n",
        "print(\"b1\")\n",
        "print(b1)\n",
        "\n",
        "print(\"W2\")\n",
        "print(W2)\n",
        "\n",
        "print(\"b2\")\n",
        "print(b2)"
      ],
      "metadata": {
        "colab": {
          "base_uri": "https://localhost:8080/"
        },
        "id": "jMfvqQUjb2HY",
        "outputId": "c3d3b420-581e-4687-abfe-05c52cd3b196"
      },
      "execution_count": null,
      "outputs": [
        {
          "output_type": "stream",
          "name": "stdout",
          "text": [
            "W1\n",
            "[[-0.39360282 -0.18581542]\n",
            " [ 0.8973059   0.26045796]\n",
            " [-0.8904507  -0.7175534 ]\n",
            " [-0.2807751  -1.2997338 ]]\n",
            "b1\n",
            "[-0.787784    0.99461955]\n",
            "W2\n",
            "[[ 1.3238764  -1.6025081  -0.6702582 ]\n",
            " [ 1.3779426   0.87979066 -2.5270119 ]]\n",
            "b2\n",
            "[-0.20805249  0.01951564  0.18853684]\n"
          ]
        }
      ]
    },
    {
      "cell_type": "code",
      "source": [],
      "metadata": {
        "id": "0f0xyx5zb4_T"
      },
      "execution_count": null,
      "outputs": []
    }
  ]
}